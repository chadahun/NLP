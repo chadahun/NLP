{
 "cells": [
  {
   "cell_type": "code",
   "execution_count": 3,
   "id": "4d80cfa2-312e-4809-91c5-fa2b891eae46",
   "metadata": {},
   "outputs": [],
   "source": [
    "# 크롤링 한글 \n",
    "from selenium import webdriver\n",
    "from selenium.webdriver.chrome.service import Service\n",
    "from webdriver_manager.chrome import ChromeDriverManager\n",
    "import time\n",
    "import bs4\n",
    "import pandas as pd\n",
    "import csv\n",
    "\n",
    "# 크롬 드라이버 설정\n",
    "options = webdriver.ChromeOptions()\n",
    "options.add_argument('--headless')\n",
    "options.add_argument('--no-sandbox')\n",
    "options.add_argument('--disable-dev-shm-usage')\n",
    "driver = webdriver.Chrome(service=Service(ChromeDriverManager().install()), options=options)\n",
    "\n",
    "# URL 리스트\n",
    "file_path = r'.\\urls.csv'\n",
    "essay_urls = []\n",
    "with open(file_path, \"r\") as f:\n",
    "    reader = csv.reader(f)\n",
    "    for row in reader:\n",
    "        essay_urls.append(row[0])\n",
    "\n",
    "\n",
    "def crawling_url(url):\n",
    "    driver.get(url)\n",
    "    response = driver.page_source\n",
    "    one_page = bs4.BeautifulSoup(response, 'html.parser')\n",
    "    \n",
    "    # 불필요 요소 제거\n",
    "    for p_element in one_page.find_all('p', {'class': 'txSpllChk'}):\n",
    "        p_element.extract()\n",
    "\n",
    "    for span_element in one_page.find_all('span', {'class': 'sup'}):\n",
    "        span_element.extract()\n",
    "\n",
    "    for a_element in one_page.find_all('a'):\n",
    "        a_element.extract()\n",
    "        \n",
    "    # 공백 제거 및 텍스트만 추출\n",
    "    kwd_list = []\n",
    "    for text in one_page.find_all('div', {'class': 'tx'}):\n",
    "        kwd_list.append(text.get_text(separator=' ', strip=True))\n",
    "    \n",
    "    return kwd_list\n",
    "\n",
    "korean_essay_lists = []\n",
    "for kwd_url in essay_urls:\n",
    "    kwd_list = crawling_url(kwd_url)\n",
    "    korean_essay_lists.append(kwd_list)\n",
    "    time.sleep(5)\n",
    "\n",
    "# 드라이버 종료\n",
    "driver.quit()\n",
    "\n",
    "# 결과 출력\n",
    "with open('korean1-240.csv', 'a', newline='') as f:\n",
    "    writer = csv.writer(f)\n",
    "    for i, kwd_list in enumerate(korean_essay_lists):\n",
    "        writer.writerow(kwd_list)\n",
    "\n"
   ]
  },
  {
   "cell_type": "code",
   "execution_count": 8,
   "id": "3c61cd92",
   "metadata": {},
   "outputs": [],
   "source": [
    "# 질문별로 나눠저 있는 답변을 하나의 paragraph화\n",
    "import csv\n",
    "essay_list = []\n",
    "with open('korean1-160.csv', 'r') as f:\n",
    "    reader = csv.reader(f)\n",
    "    for row in reader:\n",
    "        sentence = ' '.join(row)\n",
    "        essay_list.append(sentence)"
   ]
  },
  {
   "cell_type": "code",
   "execution_count": 9,
   "id": "ceecced7",
   "metadata": {},
   "outputs": [],
   "source": [
    "# paragraph화해서 파일로 저장\n",
    "with open('korean1-160_final.csv', 'w', newline='') as f:\n",
    "    writer = csv.writer(f)\n",
    "    for i, x in enumerate(essay_list):\n",
    "        writer.writerow([x])"
   ]
  },
  {
   "cell_type": "code",
   "execution_count": null,
   "id": "ba17e55c",
   "metadata": {},
   "outputs": [],
   "source": []
  }
 ],
 "metadata": {
  "kernelspec": {
   "display_name": "Python 3 (ipykernel)",
   "language": "python",
   "name": "python3"
  },
  "language_info": {
   "codemirror_mode": {
    "name": "ipython",
    "version": 3
   },
   "file_extension": ".py",
   "mimetype": "text/x-python",
   "name": "python",
   "nbconvert_exporter": "python",
   "pygments_lexer": "ipython3",
   "version": "3.11.7"
  }
 },
 "nbformat": 4,
 "nbformat_minor": 5
}
