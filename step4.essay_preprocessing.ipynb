{
 "cells": [
  {
   "cell_type": "code",
   "execution_count": 1,
   "metadata": {},
   "outputs": [],
   "source": [
    "import re\n",
    "import csv"
   ]
  },
  {
   "cell_type": "code",
   "execution_count": 2,
   "metadata": {},
   "outputs": [],
   "source": [
    "file_path = r'.\\crawling_data\\translated_merged.csv'\n",
    "\n",
    "# 자소서 리스트화\n",
    "documents = []\n",
    "with open(file_path, 'r') as f:\n",
    "    reader = csv.reader(f)\n",
    "    for row in reader:\n",
    "        documents.append(row[0])"
   ]
  },
  {
   "cell_type": "code",
   "execution_count": 3,
   "metadata": {},
   "outputs": [
    {
     "name": "stdout",
     "output_type": "stream",
     "text": [
      "56 47\n"
     ]
    }
   ],
   "source": [
    "# 소통과 통신이라는 단어가 모두 communication으로 번역되는 상황 발생\n",
    "# 한글 자소서 파일에서 '통신'이라는 단어를 포함하는 document 검색\n",
    "korean_path = r'.\\crawling_data\\korean_merged.csv'\n",
    "\n",
    "korean_documents = []\n",
    "with open(korean_path, 'r') as f:\n",
    "    reader = csv.reader(f)\n",
    "    for row in reader:\n",
    "        korean_documents.append(row[0])\n",
    "\n",
    "tele_index = []\n",
    "tele_commu_index = []\n",
    "for i, document in enumerate(korean_documents):\n",
    "    # '통신'이라는 단어를 포함하는지 여부 확인\n",
    "    if '통신' in document:\n",
    "        # '소통'이라는 단어를 같이 포함하는지 여부 확인\n",
    "        if '소통' in document:\n",
    "            tele_commu_index.append(str(i))\n",
    "        else:\n",
    "            tele_index.append(str(i))\n",
    "\n",
    "print(len(tele_index), len(tele_commu_index))"
   ]
  },
  {
   "cell_type": "code",
   "execution_count": 4,
   "metadata": {},
   "outputs": [],
   "source": [
    "# '통신'이라는 단어만 포함하는 index를 찾아 변환\n",
    "for i in tele_index:\n",
    "    documents[int(i)] = documents[int(i)].lower().replace('communicat', 'telecommunicat')"
   ]
  },
  {
   "cell_type": "code",
   "execution_count": 5,
   "metadata": {},
   "outputs": [],
   "source": [
    "# '통신'과 '소통'이 같이 포함된 document 전처리\n",
    "for i in tele_commu_index:\n",
    "    documents[int(i)] = documents[int(i)].lower().replace('wireless communicat', 'wireless telecommunicat')\n",
    "    documents[int(i)] = documents[int(i)].lower().replace('information and communicat', 'information and telecommunicat')\n",
    "    documents[int(i)] = documents[int(i)].lower().replace('post communicat', 'post telecommunicat')\n",
    "    documents[int(i)] = documents[int(i)].lower().replace('force communicat', 'force telecommunicat')\n",
    "    documents[int(i)] = documents[int(i)].lower().replace('lte communicat', 'lte telecommunicat')\n",
    "    documents[int(i)] = documents[int(i)].lower().replace('vehicle communicat', 'vehicle telecommunicat')\n",
    "    documents[int(i)] = documents[int(i)].lower().replace('server communicat', 'server telecommunicat')\n",
    "    documents[int(i)] = documents[int(i)].lower().replace('web communicat', 'web telecommunicat')\n",
    "    documents[int(i)] = documents[int(i)].lower().replace('communication equipment', 'telecommunication equipment')\n",
    "    documents[int(i)] = documents[int(i)].lower().replace('communication tech', 'telecommunication tech')\n",
    "    documents[int(i)] = documents[int(i)].lower().replace('data communicat', 'data telecommunicat')\n",
    "    documents[int(i)] = documents[int(i)].lower().replace('socket communicat', 'socket telecommunicat')\n",
    "    documents[int(i)] = documents[int(i)].lower().replace('asynchronous communicat', 'asynchronous telecommunicat')\n",
    "    documents[int(i)] = documents[int(i)].lower().replace('network communicat', 'network telecommunicat')\n",
    "    documents[int(i)] = documents[int(i)].lower().replace('tactical communicat', 'tactical telecommunicat')\n",
    "    documents[int(i)] = documents[int(i)].lower().replace('bluetooth communicat', 'bluetooth telecommunicat')\n",
    "    documents[int(i)] = documents[int(i)].lower().replace('electronics and communicat', 'electronics and telecommunicat')\n",
    "    documents[int(i)] = documents[int(i)].lower().replace('field of communicat', 'field of telecommunicat')\n",
    "    documents[int(i)] = documents[int(i)].lower().replace('communication companies', 'telecommunicat companies')\n",
    "    documents[int(i)] = documents[int(i)].lower().replace('communication in my', 'telecommunication in my')\n",
    "    documents[int(i)] = documents[int(i)].lower().replace('enable communication', 'enable telecommunication')\n",
    "    "
   ]
  },
  {
   "cell_type": "code",
   "execution_count": 6,
   "metadata": {},
   "outputs": [
    {
     "name": "stdout",
     "output_type": "stream",
     "text": [
      "2\n",
      "['83', '90']\n"
     ]
    }
   ],
   "source": [
    "final_index = []\n",
    "for i in tele_commu_index:\n",
    "    if 'telecommunicat' not in documents[int(i)]:\n",
    "        final_index.append(i)\n",
    "\n",
    "print(len(final_index))\n",
    "print(final_index)"
   ]
  },
  {
   "cell_type": "code",
   "execution_count": 9,
   "metadata": {},
   "outputs": [],
   "source": [
    "documents_corpus = []\n",
    "for i in range(len(documents)):\n",
    "    document = documents[i].lower()                        # 소문자화\n",
    "    document = re.sub(r'\\W', ' ', document)                # 알파벳, 숫자 제외 한 특수문자 제거\n",
    "    document = re.sub(r'\\d', ' ', document)                # 숫자 제거\n",
    "    document = re.sub(r'_', ' ', document)                 # '_' 제거\n",
    "    document = re.sub(r'\\s+', ' ', document)               # 잉여 space 제거.\n",
    "    document = re.sub(\",|\\n|@|:\", \"\", document)            # 쉼표, \\n, @ 제거\n",
    "    document = re.sub(r'[\\[\\]\\(\\)\\{\\}]', '', document)     # 괄호 제거\n",
    "    document = re.sub(r'^\\s+', '', document)               # 공백으로 시작하는 문서들의 공백 제거\n",
    "    documents_corpus.append(document)"
   ]
  },
  {
   "cell_type": "code",
   "execution_count": 10,
   "metadata": {},
   "outputs": [],
   "source": [
    "with open('preprocessed_essay.csv', 'w', newline='') as f:\n",
    "    writer = csv.writer(f)\n",
    "    for essay in documents_corpus:\n",
    "        writer.writerow([essay])"
   ]
  },
  {
   "cell_type": "code",
   "execution_count": null,
   "metadata": {},
   "outputs": [],
   "source": []
  }
 ],
 "metadata": {
  "kernelspec": {
   "display_name": "base",
   "language": "python",
   "name": "python3"
  },
  "language_info": {
   "codemirror_mode": {
    "name": "ipython",
    "version": 3
   },
   "file_extension": ".py",
   "mimetype": "text/x-python",
   "name": "python",
   "nbconvert_exporter": "python",
   "pygments_lexer": "ipython3",
   "version": "3.11.7"
  }
 },
 "nbformat": 4,
 "nbformat_minor": 2
}
