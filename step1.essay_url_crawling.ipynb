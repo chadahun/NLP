{
 "cells": [
  {
   "cell_type": "code",
   "execution_count": null,
   "metadata": {},
   "outputs": [],
   "source": [
    "from selenium import webdriver\n",
    "from selenium.webdriver.common.by import By\n",
    "from selenium.webdriver.support.ui import WebDriverWait\n",
    "from selenium.webdriver.support import expected_conditions as EC\n",
    "from selenium.webdriver.chrome.service import Service\n",
    "import time\n",
    "\n",
    "# 드라이버 경로 설정\n",
    "driver_path = r'.\\chromedriver-win64\\chromedriver.exe'"
   ]
  },
  {
   "cell_type": "code",
   "execution_count": null,
   "metadata": {},
   "outputs": [],
   "source": [
    "options = webdriver.ChromeOptions()\n",
    "options.add_argument('--headless')\n",
    "options.add_argument('--no-sandbox')\n",
    "options.add_argument('--disable-dev-shm-usage')\n",
    "s = Service(driver_path)\n",
    "driver = webdriver.Chrome(service=s, options=options)"
   ]
  },
  {
   "cell_type": "code",
   "execution_count": null,
   "metadata": {},
   "outputs": [],
   "source": [
    "# 합격 자소서 게시판 리스트화 후 각 리스트에서 각 자소서들의 링크만 수집\n",
    "url_list = ['https://www.jobkorea.co.kr/starter/PassAssay?FavorCo_Stat=0&Pass_An_Stat=1&OrderBy=2&EduType=0&WorkType=0&schPart=10031&isSaved=1&Page=' + str(x) for x in range(1, 18)]\n",
    "links = []\n",
    "for url in url_list:\n",
    "    driver.get(url)\n",
    "    time.sleep(3)\n",
    "    question_items = driver.find_elements(By.CSS_SELECTOR, 'div.item.question')\n",
    "    for item in question_items:\n",
    "        a_tag = item.find_element(By.TAG_NAME, 'a')\n",
    "        href = a_tag.get_attribute('href')\n",
    "        links.append(href)\n",
    "\n",
    "driver.quit()"
   ]
  },
  {
   "cell_type": "code",
   "execution_count": null,
   "metadata": {},
   "outputs": [],
   "source": [
    "# url list를 csv 파일로 저장\n",
    "import csv\n",
    "\n",
    "with open('urls.csv', 'a', newline='') as file:\n",
    "    writer = csv.writer(file)\n",
    "    for link in links:\n",
    "        writer.writerow([link])"
   ]
  },
  {
   "cell_type": "code",
   "execution_count": null,
   "metadata": {},
   "outputs": [],
   "source": [
    "# url csv 파일을 다시 리스트에 저장\n",
    "import csv\n",
    "essay_urls = []\n",
    "with open('urls.csv', 'r') as file:\n",
    "    reader = csv.reader(file)\n",
    "    for row in reader:\n",
    "        essay_urls.append(row[0])\n",
    "\n",
    "essay_urls[0]"
   ]
  },
  {
   "cell_type": "code",
   "execution_count": null,
   "metadata": {},
   "outputs": [],
   "source": []
  }
 ],
 "metadata": {
  "kernelspec": {
   "display_name": "base",
   "language": "python",
   "name": "python3"
  },
  "language_info": {
   "codemirror_mode": {
    "name": "ipython",
    "version": 3
   },
   "file_extension": ".py",
   "mimetype": "text/x-python",
   "name": "python",
   "nbconvert_exporter": "python",
   "pygments_lexer": "ipython3",
   "version": "3.11.7"
  }
 },
 "nbformat": 4,
 "nbformat_minor": 2
}
